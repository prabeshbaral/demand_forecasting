{
 "cells": [
  {
   "cell_type": "code",
   "execution_count": 11,
   "metadata": {},
   "outputs": [],
   "source": [
    "import joblib\n",
    "import xgboost as xgb\n"
   ]
  },
  {
   "cell_type": "code",
   "execution_count": 66,
   "metadata": {},
   "outputs": [],
   "source": [
    "loaded_model = joblib.load('models/xgboost_model_joblib.pkl')\n",
    "\n"
   ]
  },
  {
   "cell_type": "code",
   "execution_count": 13,
   "metadata": {},
   "outputs": [
    {
     "ename": "TypeError",
     "evalue": "`_estimator_type` undefined.  Please use appropriate mixin to define estimator type.",
     "output_type": "error",
     "traceback": [
      "\u001b[0;31m---------------------------------------------------------------------------\u001b[0m",
      "\u001b[0;31mTypeError\u001b[0m                                 Traceback (most recent call last)",
      "Cell \u001b[0;32mIn[13], line 2\u001b[0m\n\u001b[1;32m      1\u001b[0m \u001b[39m# Save it in XGBoost's JSON format\u001b[39;00m\n\u001b[0;32m----> 2\u001b[0m loaded_model\u001b[39m.\u001b[39;49msave_model(\u001b[39m'\u001b[39;49m\u001b[39mmodels/xgboost_model_latest.json\u001b[39;49m\u001b[39m'\u001b[39;49m)\n",
      "File \u001b[0;32m~/Desktop/demand_forecasting/forecastenv/lib/python3.12/site-packages/xgboost/sklearn.py:903\u001b[0m, in \u001b[0;36mXGBModel.save_model\u001b[0;34m(self, fname)\u001b[0m\n\u001b[1;32m    901\u001b[0m meta: Dict[\u001b[39mstr\u001b[39m, Any] \u001b[39m=\u001b[39m {}\n\u001b[1;32m    902\u001b[0m \u001b[39m# For validation.\u001b[39;00m\n\u001b[0;32m--> 903\u001b[0m meta[\u001b[39m\"\u001b[39m\u001b[39m_estimator_type\u001b[39m\u001b[39m\"\u001b[39m] \u001b[39m=\u001b[39m \u001b[39mself\u001b[39;49m\u001b[39m.\u001b[39;49m_get_type()\n\u001b[1;32m    904\u001b[0m meta_str \u001b[39m=\u001b[39m json\u001b[39m.\u001b[39mdumps(meta)\n\u001b[1;32m    905\u001b[0m \u001b[39mself\u001b[39m\u001b[39m.\u001b[39mget_booster()\u001b[39m.\u001b[39mset_attr(scikit_learn\u001b[39m=\u001b[39mmeta_str)\n",
      "File \u001b[0;32m~/Desktop/demand_forecasting/forecastenv/lib/python3.12/site-packages/xgboost/sklearn.py:894\u001b[0m, in \u001b[0;36mXGBModel._get_type\u001b[0;34m(self)\u001b[0m\n\u001b[1;32m    892\u001b[0m \u001b[39mdef\u001b[39;00m\u001b[39m \u001b[39m\u001b[39m_get_type\u001b[39m(\u001b[39mself\u001b[39m) \u001b[39m-\u001b[39m\u001b[39m>\u001b[39m \u001b[39mstr\u001b[39m:\n\u001b[1;32m    893\u001b[0m     \u001b[39mif\u001b[39;00m \u001b[39mnot\u001b[39;00m \u001b[39mhasattr\u001b[39m(\u001b[39mself\u001b[39m, \u001b[39m\"\u001b[39m\u001b[39m_estimator_type\u001b[39m\u001b[39m\"\u001b[39m):\n\u001b[0;32m--> 894\u001b[0m         \u001b[39mraise\u001b[39;00m \u001b[39mTypeError\u001b[39;00m(\n\u001b[1;32m    895\u001b[0m             \u001b[39m\"\u001b[39m\u001b[39m`_estimator_type` undefined.  \u001b[39m\u001b[39m\"\u001b[39m\n\u001b[1;32m    896\u001b[0m             \u001b[39m\"\u001b[39m\u001b[39mPlease use appropriate mixin to define estimator type.\u001b[39m\u001b[39m\"\u001b[39m\n\u001b[1;32m    897\u001b[0m         )\n\u001b[1;32m    898\u001b[0m     \u001b[39mreturn\u001b[39;00m \u001b[39mself\u001b[39m\u001b[39m.\u001b[39m_estimator_type\n",
      "\u001b[0;31mTypeError\u001b[0m: `_estimator_type` undefined.  Please use appropriate mixin to define estimator type."
     ]
    }
   ],
   "source": [
    "\n",
    "# Save it in XGBoost's JSON format\n",
    "loaded_model.save_model('models/xgboost_model_latest.json')"
   ]
  },
  {
   "cell_type": "code",
   "execution_count": 14,
   "metadata": {},
   "outputs": [
    {
     "ename": "XGBoostError",
     "evalue": "[10:36:39] /Users/runner/work/xgboost/xgboost/src/common/io.cc:147: Opening models/xgboost_model_latest.json failed: No such file or directory\nStack trace:\n  [bt] (0) 1   libxgboost.dylib                    0x0000000122c3c428 dmlc::LogMessageFatal::~LogMessageFatal() + 124\n  [bt] (1) 2   libxgboost.dylib                    0x0000000122d25340 xgboost::common::LoadSequentialFile(std::__1::basic_string<char, std::__1::char_traits<char>, std::__1::allocator<char>>) + 728\n  [bt] (2) 3   libxgboost.dylib                    0x0000000122cc0244 XGBoosterLoadModel::$_4::operator()() const + 144\n  [bt] (3) 4   libxgboost.dylib                    0x0000000122cbfe44 XGBoosterLoadModel + 620\n  [bt] (4) 5   libffi.8.dylib                      0x000000010505c04c ffi_call_SYSV + 76\n  [bt] (5) 6   libffi.8.dylib                      0x0000000105059834 ffi_call_int + 1404\n  [bt] (6) 7   _ctypes.cpython-312-darwin.so       0x000000010503c110 _ctypes_callproc + 756\n  [bt] (7) 8   _ctypes.cpython-312-darwin.so       0x0000000105035f8c PyCFuncPtr_call + 232\n  [bt] (8) 9   python3.12                          0x0000000102b136b8 _PyEval_EvalFrameDefault + 192068\n\n",
     "output_type": "error",
     "traceback": [
      "\u001b[0;31m---------------------------------------------------------------------------\u001b[0m",
      "\u001b[0;31mXGBoostError\u001b[0m                              Traceback (most recent call last)",
      "Cell \u001b[0;32mIn[14], line 2\u001b[0m\n\u001b[1;32m      1\u001b[0m model \u001b[39m=\u001b[39m xgb\u001b[39m.\u001b[39mBooster()\n\u001b[0;32m----> 2\u001b[0m model\u001b[39m.\u001b[39;49mload_model(\u001b[39m'\u001b[39;49m\u001b[39mmodels/xgboost_model_latest.json\u001b[39;49m\u001b[39m'\u001b[39;49m)\n\u001b[1;32m      4\u001b[0m \u001b[39m# Save the model in the latest format\u001b[39;00m\n\u001b[1;32m      5\u001b[0m model\u001b[39m.\u001b[39msave_model(\u001b[39m'\u001b[39m\u001b[39mmodels/xgboost_model_latest.json\u001b[39m\u001b[39m'\u001b[39m)\n",
      "File \u001b[0;32m~/Desktop/demand_forecasting/forecastenv/lib/python3.12/site-packages/xgboost/core.py:2697\u001b[0m, in \u001b[0;36mBooster.load_model\u001b[0;34m(self, fname)\u001b[0m\n\u001b[1;32m   2693\u001b[0m \u001b[39mif\u001b[39;00m \u001b[39misinstance\u001b[39m(fname, (\u001b[39mstr\u001b[39m, os\u001b[39m.\u001b[39mPathLike)):\n\u001b[1;32m   2694\u001b[0m     \u001b[39m# assume file name, cannot use os.path.exist to check, file can be\u001b[39;00m\n\u001b[1;32m   2695\u001b[0m     \u001b[39m# from URL.\u001b[39;00m\n\u001b[1;32m   2696\u001b[0m     fname \u001b[39m=\u001b[39m os\u001b[39m.\u001b[39mfspath(os\u001b[39m.\u001b[39mpath\u001b[39m.\u001b[39mexpanduser(fname))\n\u001b[0;32m-> 2697\u001b[0m     _check_call(_LIB\u001b[39m.\u001b[39;49mXGBoosterLoadModel(\u001b[39mself\u001b[39;49m\u001b[39m.\u001b[39;49mhandle, c_str(fname)))\n\u001b[1;32m   2698\u001b[0m \u001b[39melif\u001b[39;00m \u001b[39misinstance\u001b[39m(fname, \u001b[39mbytearray\u001b[39m):\n\u001b[1;32m   2699\u001b[0m     buf \u001b[39m=\u001b[39m fname\n",
      "File \u001b[0;32m~/Desktop/demand_forecasting/forecastenv/lib/python3.12/site-packages/xgboost/core.py:284\u001b[0m, in \u001b[0;36m_check_call\u001b[0;34m(ret)\u001b[0m\n\u001b[1;32m    273\u001b[0m \u001b[39m\u001b[39m\u001b[39m\"\"\"Check the return value of C API call\u001b[39;00m\n\u001b[1;32m    274\u001b[0m \n\u001b[1;32m    275\u001b[0m \u001b[39mThis function will raise exception when error occurs.\u001b[39;00m\n\u001b[0;32m   (...)\u001b[0m\n\u001b[1;32m    281\u001b[0m \u001b[39m    return value from API calls\u001b[39;00m\n\u001b[1;32m    282\u001b[0m \u001b[39m\"\"\"\u001b[39;00m\n\u001b[1;32m    283\u001b[0m \u001b[39mif\u001b[39;00m ret \u001b[39m!=\u001b[39m \u001b[39m0\u001b[39m:\n\u001b[0;32m--> 284\u001b[0m     \u001b[39mraise\u001b[39;00m XGBoostError(py_str(_LIB\u001b[39m.\u001b[39mXGBGetLastError()))\n",
      "\u001b[0;31mXGBoostError\u001b[0m: [10:36:39] /Users/runner/work/xgboost/xgboost/src/common/io.cc:147: Opening models/xgboost_model_latest.json failed: No such file or directory\nStack trace:\n  [bt] (0) 1   libxgboost.dylib                    0x0000000122c3c428 dmlc::LogMessageFatal::~LogMessageFatal() + 124\n  [bt] (1) 2   libxgboost.dylib                    0x0000000122d25340 xgboost::common::LoadSequentialFile(std::__1::basic_string<char, std::__1::char_traits<char>, std::__1::allocator<char>>) + 728\n  [bt] (2) 3   libxgboost.dylib                    0x0000000122cc0244 XGBoosterLoadModel::$_4::operator()() const + 144\n  [bt] (3) 4   libxgboost.dylib                    0x0000000122cbfe44 XGBoosterLoadModel + 620\n  [bt] (4) 5   libffi.8.dylib                      0x000000010505c04c ffi_call_SYSV + 76\n  [bt] (5) 6   libffi.8.dylib                      0x0000000105059834 ffi_call_int + 1404\n  [bt] (6) 7   _ctypes.cpython-312-darwin.so       0x000000010503c110 _ctypes_callproc + 756\n  [bt] (7) 8   _ctypes.cpython-312-darwin.so       0x0000000105035f8c PyCFuncPtr_call + 232\n  [bt] (8) 9   python3.12                          0x0000000102b136b8 _PyEval_EvalFrameDefault + 192068\n\n"
     ]
    }
   ],
   "source": [
    "model = xgb.Booster()\n",
    "model.load_model('models/xgboost_model_latest.json')\n",
    "\n",
    "# Save the model in the latest format\n",
    "model.save_model('models/xgboost_model_latest.json')"
   ]
  },
  {
   "cell_type": "code",
   "execution_count": 15,
   "metadata": {},
   "outputs": [
    {
     "data": {
      "text/html": [
       "<div>\n",
       "<style scoped>\n",
       "    .dataframe tbody tr th:only-of-type {\n",
       "        vertical-align: middle;\n",
       "    }\n",
       "\n",
       "    .dataframe tbody tr th {\n",
       "        vertical-align: top;\n",
       "    }\n",
       "\n",
       "    .dataframe thead th {\n",
       "        text-align: right;\n",
       "    }\n",
       "</style>\n",
       "<table border=\"1\" class=\"dataframe\">\n",
       "  <thead>\n",
       "    <tr style=\"text-align: right;\">\n",
       "      <th></th>\n",
       "      <th>record_ID</th>\n",
       "      <th>week</th>\n",
       "      <th>store_id</th>\n",
       "      <th>sku_id</th>\n",
       "      <th>total_price</th>\n",
       "      <th>base_price</th>\n",
       "      <th>is_featured_sku</th>\n",
       "      <th>is_display_sku</th>\n",
       "      <th>units_sold</th>\n",
       "    </tr>\n",
       "  </thead>\n",
       "  <tbody>\n",
       "    <tr>\n",
       "      <th>0</th>\n",
       "      <td>1</td>\n",
       "      <td>17/01/11</td>\n",
       "      <td>8091</td>\n",
       "      <td>216418</td>\n",
       "      <td>99.0375</td>\n",
       "      <td>111.8625</td>\n",
       "      <td>0</td>\n",
       "      <td>0</td>\n",
       "      <td>20</td>\n",
       "    </tr>\n",
       "    <tr>\n",
       "      <th>1</th>\n",
       "      <td>2</td>\n",
       "      <td>17/01/11</td>\n",
       "      <td>8091</td>\n",
       "      <td>216419</td>\n",
       "      <td>99.0375</td>\n",
       "      <td>99.0375</td>\n",
       "      <td>0</td>\n",
       "      <td>0</td>\n",
       "      <td>28</td>\n",
       "    </tr>\n",
       "    <tr>\n",
       "      <th>2</th>\n",
       "      <td>3</td>\n",
       "      <td>17/01/11</td>\n",
       "      <td>8091</td>\n",
       "      <td>216425</td>\n",
       "      <td>133.9500</td>\n",
       "      <td>133.9500</td>\n",
       "      <td>0</td>\n",
       "      <td>0</td>\n",
       "      <td>19</td>\n",
       "    </tr>\n",
       "    <tr>\n",
       "      <th>3</th>\n",
       "      <td>4</td>\n",
       "      <td>17/01/11</td>\n",
       "      <td>8091</td>\n",
       "      <td>216233</td>\n",
       "      <td>133.9500</td>\n",
       "      <td>133.9500</td>\n",
       "      <td>0</td>\n",
       "      <td>0</td>\n",
       "      <td>44</td>\n",
       "    </tr>\n",
       "    <tr>\n",
       "      <th>4</th>\n",
       "      <td>5</td>\n",
       "      <td>17/01/11</td>\n",
       "      <td>8091</td>\n",
       "      <td>217390</td>\n",
       "      <td>141.0750</td>\n",
       "      <td>141.0750</td>\n",
       "      <td>0</td>\n",
       "      <td>0</td>\n",
       "      <td>52</td>\n",
       "    </tr>\n",
       "  </tbody>\n",
       "</table>\n",
       "</div>"
      ],
      "text/plain": [
       "   record_ID      week  store_id  sku_id  total_price  base_price  \\\n",
       "0          1  17/01/11      8091  216418      99.0375    111.8625   \n",
       "1          2  17/01/11      8091  216419      99.0375     99.0375   \n",
       "2          3  17/01/11      8091  216425     133.9500    133.9500   \n",
       "3          4  17/01/11      8091  216233     133.9500    133.9500   \n",
       "4          5  17/01/11      8091  217390     141.0750    141.0750   \n",
       "\n",
       "   is_featured_sku  is_display_sku  units_sold  \n",
       "0                0               0          20  \n",
       "1                0               0          28  \n",
       "2                0               0          19  \n",
       "3                0               0          44  \n",
       "4                0               0          52  "
      ]
     },
     "execution_count": 15,
     "metadata": {},
     "output_type": "execute_result"
    }
   ],
   "source": [
    "import pandas as pd\n",
    "df=pd.read_csv('dataset/data-3.csv')\n",
    "df.head()"
   ]
  },
  {
   "cell_type": "code",
   "execution_count": 62,
   "metadata": {},
   "outputs": [],
   "source": [
    "def feature_extraction(df):\n",
    "    df['week']=pd.to_datetime(df['week'])\n",
    "\n",
    "    df['year'] = df['week'].dt.year\n",
    "    df['month'] = df['week'].dt.month\n",
    "    df['weekday'] = df['week'].dt.weekday\n",
    "    df['dayofweek'] = df['week'].dt.dayofweek\n",
    "    df['dayofyear'] = df['week'].dt.dayofyear\n",
    "    df['quarter'] = df['week'].dt.quarter\n",
    "   \n",
    "    df.set_index('week',inplace=True)\n",
    "    return df"
   ]
  },
  {
   "cell_type": "code",
   "execution_count": null,
   "metadata": {},
   "outputs": [],
   "source": [
    "df1=pd.DataFrame(columns=['store_id', 'sku_id', 'total_price', 'base_price', 'is_featured_sku',\n",
    "       'is_display_sku', 'week'])"
   ]
  },
  {
   "cell_type": "code",
   "execution_count": null,
   "metadata": {},
   "outputs": [],
   "source": [
    "new_row = {\n",
    "    'record_ID': 6,\n",
    "    'week': '24/01/11',\n",
    "    'store_id': 8091,\n",
    "    'sku_id': 217391,\n",
    "    'total_price': 150.0,\n",
    "    'base_price': 150.0,\n",
    "    'is_featured_sku': 1,\n",
    "    'is_display_sku': 1,\n",
    "}"
   ]
  },
  {
   "cell_type": "code",
   "execution_count": 56,
   "metadata": {},
   "outputs": [
    {
     "name": "stdout",
     "output_type": "stream",
     "text": [
      "<class 'pandas.core.frame.DataFrame'>\n",
      "Index: 1 entries, 150150 to 150150\n",
      "Data columns (total 7 columns):\n",
      " #   Column           Non-Null Count  Dtype  \n",
      "---  ------           --------------  -----  \n",
      " 0   store_id         1 non-null      int64  \n",
      " 1   sku_id           1 non-null      int64  \n",
      " 2   total_price      1 non-null      float64\n",
      " 3   base_price       1 non-null      float64\n",
      " 4   is_featured_sku  1 non-null      int64  \n",
      " 5   is_display_sku   1 non-null      int64  \n",
      " 6   week             1 non-null      object \n",
      "dtypes: float64(2), int64(4), object(1)\n",
      "memory usage: 64.0+ bytes\n"
     ]
    }
   ],
   "source": [
    "df1.loc[len(df)] = new_row\n",
    "df1.info()"
   ]
  },
  {
   "cell_type": "code",
   "execution_count": 57,
   "metadata": {},
   "outputs": [
    {
     "data": {
      "text/html": [
       "<div>\n",
       "<style scoped>\n",
       "    .dataframe tbody tr th:only-of-type {\n",
       "        vertical-align: middle;\n",
       "    }\n",
       "\n",
       "    .dataframe tbody tr th {\n",
       "        vertical-align: top;\n",
       "    }\n",
       "\n",
       "    .dataframe thead th {\n",
       "        text-align: right;\n",
       "    }\n",
       "</style>\n",
       "<table border=\"1\" class=\"dataframe\">\n",
       "  <thead>\n",
       "    <tr style=\"text-align: right;\">\n",
       "      <th></th>\n",
       "      <th>store_id</th>\n",
       "      <th>sku_id</th>\n",
       "      <th>total_price</th>\n",
       "      <th>base_price</th>\n",
       "      <th>is_featured_sku</th>\n",
       "      <th>is_display_sku</th>\n",
       "      <th>week</th>\n",
       "    </tr>\n",
       "  </thead>\n",
       "  <tbody>\n",
       "    <tr>\n",
       "      <th>150150</th>\n",
       "      <td>8091</td>\n",
       "      <td>217391</td>\n",
       "      <td>150.0</td>\n",
       "      <td>150.0</td>\n",
       "      <td>1</td>\n",
       "      <td>1</td>\n",
       "      <td>24/01/11</td>\n",
       "    </tr>\n",
       "  </tbody>\n",
       "</table>\n",
       "</div>"
      ],
      "text/plain": [
       "        store_id  sku_id  total_price  base_price  is_featured_sku  \\\n",
       "150150      8091  217391        150.0       150.0                1   \n",
       "\n",
       "        is_display_sku      week  \n",
       "150150               1  24/01/11  "
      ]
     },
     "execution_count": 57,
     "metadata": {},
     "output_type": "execute_result"
    }
   ],
   "source": [
    "df1"
   ]
  },
  {
   "cell_type": "code",
   "execution_count": 64,
   "metadata": {},
   "outputs": [
    {
     "data": {
      "text/plain": [
       "array([35.735275], dtype=float32)"
      ]
     },
     "execution_count": 64,
     "metadata": {},
     "output_type": "execute_result"
    }
   ],
   "source": [
    "df1=pd.DataFrame(columns=['store_id', 'sku_id', 'total_price', 'base_price', 'is_featured_sku',\n",
    "       'is_display_sku', 'week'])\n",
    "new_row = {\n",
    "    'record_ID': 6,\n",
    "    'week': '24/01/11',\n",
    "    'store_id': 8091,\n",
    "    'sku_id': 217391,\n",
    "    'total_price': 150.0,\n",
    "    'base_price': 150.0,\n",
    "    'is_featured_sku': 1,\n",
    "    'is_display_sku': 1,\n",
    "}\n",
    "df1.loc[len(df)] = new_row\n",
    "df1=feature_extraction(df1)\n",
    "predict=loaded_model.predict(df1)\n",
    "predict"
   ]
  },
  {
   "cell_type": "code",
   "execution_count": 58,
   "metadata": {},
   "outputs": [
    {
     "name": "stdout",
     "output_type": "stream",
     "text": [
      "        store_id  sku_id  total_price  base_price  is_featured_sku  \\\n",
      "150150      8091  217391        150.0       150.0                1   \n",
      "\n",
      "        is_display_sku       week  year  month  weekday  dayofweek  dayofyear  \\\n",
      "150150               1 2011-01-24  2011      1        0          0         24   \n",
      "\n",
      "        quarter  \n",
      "150150        1  \n",
      "            store_id  sku_id  total_price  base_price  is_featured_sku  \\\n",
      "week                                                                     \n",
      "2011-01-24      8091  217391        150.0       150.0                1   \n",
      "\n",
      "            is_display_sku  year  month  weekday  dayofweek  dayofyear  \\\n",
      "week                                                                     \n",
      "2011-01-24               1  2011      1        0          0         24   \n",
      "\n",
      "            quarter  \n",
      "week                 \n",
      "2011-01-24        1  \n"
     ]
    },
    {
     "data": {
      "text/html": [
       "<div>\n",
       "<style scoped>\n",
       "    .dataframe tbody tr th:only-of-type {\n",
       "        vertical-align: middle;\n",
       "    }\n",
       "\n",
       "    .dataframe tbody tr th {\n",
       "        vertical-align: top;\n",
       "    }\n",
       "\n",
       "    .dataframe thead th {\n",
       "        text-align: right;\n",
       "    }\n",
       "</style>\n",
       "<table border=\"1\" class=\"dataframe\">\n",
       "  <thead>\n",
       "    <tr style=\"text-align: right;\">\n",
       "      <th></th>\n",
       "      <th>store_id</th>\n",
       "      <th>sku_id</th>\n",
       "      <th>total_price</th>\n",
       "      <th>base_price</th>\n",
       "      <th>is_featured_sku</th>\n",
       "      <th>is_display_sku</th>\n",
       "      <th>year</th>\n",
       "      <th>month</th>\n",
       "      <th>weekday</th>\n",
       "      <th>dayofweek</th>\n",
       "      <th>dayofyear</th>\n",
       "      <th>quarter</th>\n",
       "    </tr>\n",
       "    <tr>\n",
       "      <th>week</th>\n",
       "      <th></th>\n",
       "      <th></th>\n",
       "      <th></th>\n",
       "      <th></th>\n",
       "      <th></th>\n",
       "      <th></th>\n",
       "      <th></th>\n",
       "      <th></th>\n",
       "      <th></th>\n",
       "      <th></th>\n",
       "      <th></th>\n",
       "      <th></th>\n",
       "    </tr>\n",
       "  </thead>\n",
       "  <tbody>\n",
       "    <tr>\n",
       "      <th>2011-01-24</th>\n",
       "      <td>8091</td>\n",
       "      <td>217391</td>\n",
       "      <td>150.0</td>\n",
       "      <td>150.0</td>\n",
       "      <td>1</td>\n",
       "      <td>1</td>\n",
       "      <td>2011</td>\n",
       "      <td>1</td>\n",
       "      <td>0</td>\n",
       "      <td>0</td>\n",
       "      <td>24</td>\n",
       "      <td>1</td>\n",
       "    </tr>\n",
       "  </tbody>\n",
       "</table>\n",
       "</div>"
      ],
      "text/plain": [
       "            store_id  sku_id  total_price  base_price  is_featured_sku  \\\n",
       "week                                                                     \n",
       "2011-01-24      8091  217391        150.0       150.0                1   \n",
       "\n",
       "            is_display_sku  year  month  weekday  dayofweek  dayofyear  \\\n",
       "week                                                                     \n",
       "2011-01-24               1  2011      1        0          0         24   \n",
       "\n",
       "            quarter  \n",
       "week                 \n",
       "2011-01-24        1  "
      ]
     },
     "execution_count": 58,
     "metadata": {},
     "output_type": "execute_result"
    }
   ],
   "source": [
    "df1=feature_extraction(df1)\n",
    "\n",
    "df1"
   ]
  },
  {
   "cell_type": "code",
   "execution_count": 60,
   "metadata": {},
   "outputs": [
    {
     "data": {
      "text/plain": [
       "array([35.735275], dtype=float32)"
      ]
     },
     "execution_count": 60,
     "metadata": {},
     "output_type": "execute_result"
    }
   ],
   "source": [
    "predict=loaded_model.predict(df1)\n",
    "predict"
   ]
  },
  {
   "cell_type": "code",
   "execution_count": null,
   "metadata": {},
   "outputs": [],
   "source": []
  }
 ],
 "metadata": {
  "kernelspec": {
   "display_name": "demand_env",
   "language": "python",
   "name": "python3"
  },
  "language_info": {
   "codemirror_mode": {
    "name": "ipython",
    "version": 3
   },
   "file_extension": ".py",
   "mimetype": "text/x-python",
   "name": "python",
   "nbconvert_exporter": "python",
   "pygments_lexer": "ipython3",
   "version": "3.12.4"
  },
  "orig_nbformat": 4,
  "vscode": {
   "interpreter": {
    "hash": "95a528fc2e40d9d1af833b44e08febbc697b5c7bd1b724922d303a62eed2df97"
   }
  }
 },
 "nbformat": 4,
 "nbformat_minor": 2
}
